{
 "cells": [
  {
   "cell_type": "markdown",
   "metadata": {},
   "source": [
    "Universidad Galileo\n",
    "\n",
    "Statistical Learning II\n",
    "\n",
    "PAPD - Sección V\n",
    "\n",
    "Sergio José Barrios Martínez\n",
    "\n",
    "Carnet No. 19012765\n",
    "\n",
    "## Artificial Neural Networks"
   ]
  },
  {
   "cell_type": "code",
   "execution_count": 274,
   "metadata": {},
   "outputs": [],
   "source": [
    "import numpy as np\n",
    "import pandas as pd\n",
    "import matplotlib.pyplot as plt"
   ]
  },
  {
   "cell_type": "markdown",
   "metadata": {},
   "source": [
    "### Parte No. 1\n",
    "#### Calcular la salida de un MLP\n",
    "- Utilizando Numpy definir una función para calcular la salida de los siguientes modelos.\n",
    "- Dado que cada sub-modelo \"detecta\" una característica intermedia **h** (variable latente), determinar para cada entrada la característica intermedia con mayor presencia.\n",
    "\n",
    "\n",
    "#### Red Neuronal No. 1\n",
    "\n",
    "<img src=\"Images\\ANN1.png\">"
   ]
  },
  {
   "cell_type": "markdown",
   "metadata": {},
   "source": [
    "#### Función de Activación: Sigmoidal"
   ]
  },
  {
   "cell_type": "code",
   "execution_count": 118,
   "metadata": {},
   "outputs": [],
   "source": [
    "def sigmoid(x):\n",
    "    return 1 / (1 + np.exp(-x))"
   ]
  },
  {
   "cell_type": "code",
   "execution_count": 231,
   "metadata": {},
   "outputs": [],
   "source": [
    "def ANN1(vector_x):\n",
    "    \n",
    "    # Se agrega el bias al vector de entrada\n",
    "    vector_x_bias = np.transpose(np.vstack([vector_x,[1]]))\n",
    "    \n",
    "    # Ensamble de Parámetros por Neurona h_i en una sola Matriz\n",
    "    parametros_h1 = np.transpose(np.array([[5,-2,-8]]))\n",
    "    parametros_h2 = np.transpose(np.array([[7,-3,1]]))\n",
    "    parametros_capa1 = np.hstack([parametros_h1,parametros_h2])\n",
    "    \n",
    "    # Multiplicación Matricial para Vector \"h\" de Variables Latentes\n",
    "    vector_h=sigmoid(np.matmul(vector_x_bias,parametros_capa1))\n",
    "    print(\"Variables latentes:\",vector_h)\n",
    "    \n",
    "    # Determinación de Característica con Mayor Presencia\n",
    "    print(\"La característica intermedia con mayor presencia es: h\",np.argmax(vector_h),\" con valor\",vector_h[0][np.argmax(vector_h)])\n",
    "    \n",
    "    # Se agrega el bias al vector h\n",
    "    vector_h_bias = np.hstack([vector_h,[[1]]])   \n",
    "    \n",
    "    # Ensamble de Parámetros para Calcular la Salida\n",
    "    parametros_capa2 = np.transpose(np.array([[7,5,-6]]))\n",
    "    \n",
    "    # Multiplicación Matricial para Salida\n",
    "    salida = sigmoid(np.matmul(vector_h_bias,parametros_capa2))\n",
    "    print(\"Valor de Salida Aproximada:\",salida[0][0])\n",
    "        \n",
    "    return salida"
   ]
  },
  {
   "cell_type": "code",
   "execution_count": 249,
   "metadata": {},
   "outputs": [],
   "source": [
    "Entrada_ANN1 = np.array([[0.5],[0.6]])"
   ]
  },
  {
   "cell_type": "code",
   "execution_count": 250,
   "metadata": {},
   "outputs": [
    {
     "name": "stdout",
     "output_type": "stream",
     "text": [
      "Variables latentes: [[0.0012294  0.93702664]]\n",
      "La característica intermedia con mayor presencia es: h 1  con valor 0.9370266439430035\n",
      "Valor de Salida Aproximada: 0.21311318840259086\n"
     ]
    }
   ],
   "source": [
    "Salida_ANN1 = ANN1(Entrada_ANN1)"
   ]
  },
  {
   "cell_type": "code",
   "execution_count": 251,
   "metadata": {},
   "outputs": [
    {
     "data": {
      "text/plain": [
       "array([[0.21311319]])"
      ]
     },
     "execution_count": 251,
     "metadata": {},
     "output_type": "execute_result"
    }
   ],
   "source": [
    "Salida_ANN1"
   ]
  },
  {
   "cell_type": "markdown",
   "metadata": {},
   "source": [
    "#### Red Neuronal No. 2\n",
    "\n",
    "<img src=\"Images\\ANN2.png\">"
   ]
  },
  {
   "cell_type": "code",
   "execution_count": 242,
   "metadata": {},
   "outputs": [],
   "source": [
    "def ANN2(vector_x):\n",
    "    \n",
    "    X = np.transpose(vector_x)\n",
    "    \n",
    "    # Ensamble de Parámetros por Neurona h_i en una sola Matriz\n",
    "    parametros_h1 = np.transpose(np.array([[0.8,0.2]]))\n",
    "    parametros_h2 = np.transpose(np.array([[0.4,0.9]]))\n",
    "    parametros_h3 = np.transpose(np.array([[0.3,0.5]]))\n",
    "    parametros_capa1 = np.hstack([parametros_h1,parametros_h2,parametros_h3])\n",
    "    \n",
    "    # Multiplicación Matricial para Vector \"h\" de Variables Latentes\n",
    "    vector_h=sigmoid(np.matmul(X,parametros_capa1))\n",
    "    print(\"Variables latentes:\",vector_h)\n",
    "    \n",
    "    # Determinación de Característica con Mayor Presencia\n",
    "    print(\"La característica intermedia con mayor presencia es: h\",np.argmax(vector_h),\" con valor\",vector_h[0][np.argmax(vector_h)])\n",
    "    \n",
    "    # Ensamble de Parámetros para Calcular la Salida\n",
    "    parametros_capa2 = np.transpose(np.array([[0.3,0.5,0.9]]))\n",
    "    \n",
    "    # Multiplicación Matricial para Salida\n",
    "    salida = sigmoid(np.matmul(vector_h,parametros_capa2))\n",
    "    print(\"Valor de Salida Aproximada:\",salida[0][0])\n",
    "        \n",
    "    return salida"
   ]
  },
  {
   "cell_type": "code",
   "execution_count": 252,
   "metadata": {},
   "outputs": [
    {
     "name": "stdout",
     "output_type": "stream",
     "text": [
      "Variables latentes: [[0.62245933 0.65701046 0.59868766]]\n",
      "La característica intermedia con mayor presencia es: h 1  con valor 0.6570104626734988\n",
      "Valor de Salida Aproximada: 0.7415541370613938\n"
     ]
    }
   ],
   "source": [
    "Entrada_ANN2 = np.array([[0.5],[0.5]])\n",
    "Salida_ANN2 = ANN2(Entrada_ANN2)"
   ]
  },
  {
   "cell_type": "code",
   "execution_count": 253,
   "metadata": {},
   "outputs": [
    {
     "data": {
      "text/plain": [
       "array([[0.74155414]])"
      ]
     },
     "execution_count": 253,
     "metadata": {},
     "output_type": "execute_result"
    }
   ],
   "source": [
    "Salida_ANN2"
   ]
  },
  {
   "cell_type": "markdown",
   "metadata": {},
   "source": [
    "### Parte No. 2:\n",
    "#### Revisitando la función XOR\n",
    "- Por su simplicidad y dominio pequeño, seguiremos usando XOR como ejemplo.\n",
    "- Asumamos que bajo un proceso de entrenamiento(aún por definir) ya se han encontrado los pesos de una red neuronal como se ve en la siguiente imagen.\n",
    "- Calcular para cada posible punto en el dominio de XOR la salida intermedia H = [h1,h2]\n",
    "- Mostrar la matriz resultante H en el notebook.\n",
    "- Graficar cada punto de la representación intermedia(scatter), usar diferente color y/o marker según su etiqueta Y. Puesto que Y tiene 2 posibles valores, la gráfica debe tener 2 colores o markers.\n",
    "- Analizar el resultado intermedio, concluir y comentar opiniones.\n",
    "\n",
    "**Nota**: usar solo código vectorizado (producto punto, multiplicación matricial ,ufuncs) \n",
    "\n",
    "\n",
    "\n",
    "<img src=\"Images\\ANN3.png\">"
   ]
  },
  {
   "cell_type": "code",
   "execution_count": 342,
   "metadata": {},
   "outputs": [],
   "source": [
    "def ANN3(vector_x):\n",
    "    \n",
    "    # Se agrega el bias al vector de entrada\n",
    "    vector_x_bias = np.transpose(np.vstack([vector_x,[1]]))\n",
    "    \n",
    "    # Ensamble de Parámetros por Neurona h_i en una sola Matriz\n",
    "    parametros_h1 = np.transpose(np.array([[20,20,-10]]))\n",
    "    parametros_h2 = np.transpose(np.array([[-20,-20,30]]))\n",
    "    parametros_capa1 = np.hstack([parametros_h1,parametros_h2])\n",
    "    \n",
    "    # Multiplicación Matricial para Vector \"h\" de Variables Latentes\n",
    "    vector_h=sigmoid(np.matmul(vector_x_bias,parametros_capa1))\n",
    "    \n",
    "    # Se agrega el bias al vector h\n",
    "    vector_h_bias = np.hstack([vector_h,[[1]]])\n",
    "    \n",
    "    # Ensamble de Parámetros para Calcular la Salida\n",
    "    parametros_capa2 = np.transpose(np.array([[20,20,-30]]))\n",
    "    \n",
    "    # Multiplicación Matricial para Salida\n",
    "    salida = sigmoid(np.matmul(vector_h_bias,parametros_capa2))\n",
    "        \n",
    "    return vector_h,salida"
   ]
  },
  {
   "cell_type": "code",
   "execution_count": 343,
   "metadata": {},
   "outputs": [],
   "source": [
    "Entrada_ANN3 = np.array([[1],[1]])\n",
    "Salida_ANN3 = ANN3(Entrada_ANN3)"
   ]
  },
  {
   "cell_type": "code",
   "execution_count": 514,
   "metadata": {},
   "outputs": [],
   "source": [
    "def representacion_intermedia_XOR(dominio_x):\n",
    "\n",
    "    representacion_intermedia = []\n",
    "    salida = []\n",
    "    \n",
    "    # Cálculo de Representación Intermedia (h1,h2)\n",
    "    for i in dominio_x:\n",
    "        entrada = np.expand_dims(i,1)\n",
    "        vector_h,estimacion = ANN3(entrada)\n",
    "        representacion_intermedia.append(vector_h)\n",
    "        salida.append(estimacion)\n",
    "    \n",
    "    representacion_intermedia = np.reshape(np.array(representacion_intermedia),(4,2))\n",
    "    salida=np.reshape(np.array(salida),(4,1))\n",
    "    \n",
    "    # Dataframe del Dominio de la función con Labels\n",
    "    x1_dominio = dominio_x[:,0]\n",
    "    x2_dominio = dominio_x[:,1]\n",
    "    categoria_dominio = np.around(salida[:,0])\n",
    "    data_dominio = pd.DataFrame({\"x1\": x1_dominio, \"x2\": x2_dominio, \"Categoria\": categoria_dominio})\n",
    "    display(data_dominio)  \n",
    "    \n",
    "    # Dataframe de la Representación Intermedia de la función con Labels\n",
    "    h1_intermedio = representacion_intermedia[:,0]\n",
    "    h2_intermedio = representacion_intermedia[:,1]\n",
    "    categoria_intermedio = np.around(salida[:,0])\n",
    "    data_intermedio = pd.DataFrame({\"h1\": h1_intermedio, \"h2\": h2_intermedio, \"Categoria\": categoria_intermedio})\n",
    "    display(data_intermedio)\n",
    "     \n",
    "    # Gráfica de Representaciones    \n",
    "    fig, axs = plt.subplots(1,2,figsize=(15,5))\n",
    "    fig.suptitle('Transformación de Características a Espacio Latente [x1,x2] --> [h1,h2]')\n",
    "   \n",
    "    grupos_dominio = data_dominio.groupby(\"Categoria\")\n",
    "    for name, group in grupos_dominio:\n",
    "        axs[0].plot(group[\"x1\"], group[\"x2\"], marker=\"o\", linestyle=\"\", label=name)\n",
    "    axs[0].set_xlabel(\"x1\")\n",
    "    axs[0].set_ylabel(\"x2\")\n",
    "    axs[0].legend(loc=(0.5,0.5))\n",
    "    \n",
    "    grupos_intermedio = data_intermedio.groupby(\"Categoria\")\n",
    "    for name, group in grupos_intermedio:\n",
    "        axs[1].plot(group[\"h1\"], group[\"h2\"], marker=\"o\", linestyle=\"\", label=name)\n",
    "    axs[1].set_xlabel(\"h1\")\n",
    "    axs[1].set_ylabel(\"h2\")\n",
    "    axs[1].legend(loc=(0.5,0.5))\n",
    "    \n",
    "    plt.show()\n",
    "    \n",
    "    return True"
   ]
  },
  {
   "cell_type": "code",
   "execution_count": 515,
   "metadata": {},
   "outputs": [],
   "source": [
    "dominio_XOR = np.array([[0,0],[0,1],[1,0],[1,1]])"
   ]
  },
  {
   "cell_type": "code",
   "execution_count": 516,
   "metadata": {},
   "outputs": [
    {
     "data": {
      "text/html": [
       "<div>\n",
       "<style scoped>\n",
       "    .dataframe tbody tr th:only-of-type {\n",
       "        vertical-align: middle;\n",
       "    }\n",
       "\n",
       "    .dataframe tbody tr th {\n",
       "        vertical-align: top;\n",
       "    }\n",
       "\n",
       "    .dataframe thead th {\n",
       "        text-align: right;\n",
       "    }\n",
       "</style>\n",
       "<table border=\"1\" class=\"dataframe\">\n",
       "  <thead>\n",
       "    <tr style=\"text-align: right;\">\n",
       "      <th></th>\n",
       "      <th>x1</th>\n",
       "      <th>x2</th>\n",
       "      <th>Categoria</th>\n",
       "    </tr>\n",
       "  </thead>\n",
       "  <tbody>\n",
       "    <tr>\n",
       "      <th>0</th>\n",
       "      <td>0</td>\n",
       "      <td>0</td>\n",
       "      <td>0.0</td>\n",
       "    </tr>\n",
       "    <tr>\n",
       "      <th>1</th>\n",
       "      <td>0</td>\n",
       "      <td>1</td>\n",
       "      <td>1.0</td>\n",
       "    </tr>\n",
       "    <tr>\n",
       "      <th>2</th>\n",
       "      <td>1</td>\n",
       "      <td>0</td>\n",
       "      <td>1.0</td>\n",
       "    </tr>\n",
       "    <tr>\n",
       "      <th>3</th>\n",
       "      <td>1</td>\n",
       "      <td>1</td>\n",
       "      <td>0.0</td>\n",
       "    </tr>\n",
       "  </tbody>\n",
       "</table>\n",
       "</div>"
      ],
      "text/plain": [
       "   x1  x2  Categoria\n",
       "0   0   0        0.0\n",
       "1   0   1        1.0\n",
       "2   1   0        1.0\n",
       "3   1   1        0.0"
      ]
     },
     "metadata": {},
     "output_type": "display_data"
    },
    {
     "data": {
      "text/html": [
       "<div>\n",
       "<style scoped>\n",
       "    .dataframe tbody tr th:only-of-type {\n",
       "        vertical-align: middle;\n",
       "    }\n",
       "\n",
       "    .dataframe tbody tr th {\n",
       "        vertical-align: top;\n",
       "    }\n",
       "\n",
       "    .dataframe thead th {\n",
       "        text-align: right;\n",
       "    }\n",
       "</style>\n",
       "<table border=\"1\" class=\"dataframe\">\n",
       "  <thead>\n",
       "    <tr style=\"text-align: right;\">\n",
       "      <th></th>\n",
       "      <th>h1</th>\n",
       "      <th>h2</th>\n",
       "      <th>Categoria</th>\n",
       "    </tr>\n",
       "  </thead>\n",
       "  <tbody>\n",
       "    <tr>\n",
       "      <th>0</th>\n",
       "      <td>0.000045</td>\n",
       "      <td>1.000000</td>\n",
       "      <td>0.0</td>\n",
       "    </tr>\n",
       "    <tr>\n",
       "      <th>1</th>\n",
       "      <td>0.999955</td>\n",
       "      <td>0.999955</td>\n",
       "      <td>1.0</td>\n",
       "    </tr>\n",
       "    <tr>\n",
       "      <th>2</th>\n",
       "      <td>0.999955</td>\n",
       "      <td>0.999955</td>\n",
       "      <td>1.0</td>\n",
       "    </tr>\n",
       "    <tr>\n",
       "      <th>3</th>\n",
       "      <td>1.000000</td>\n",
       "      <td>0.000045</td>\n",
       "      <td>0.0</td>\n",
       "    </tr>\n",
       "  </tbody>\n",
       "</table>\n",
       "</div>"
      ],
      "text/plain": [
       "         h1        h2  Categoria\n",
       "0  0.000045  1.000000        0.0\n",
       "1  0.999955  0.999955        1.0\n",
       "2  0.999955  0.999955        1.0\n",
       "3  1.000000  0.000045        0.0"
      ]
     },
     "metadata": {},
     "output_type": "display_data"
    },
    {
     "data": {
      "image/png": "[encoded data removed]",
      "text/plain": [
       "<Figure size 1080x360 with 2 Axes>"
      ]
     },
     "metadata": {
      "needs_background": "light"
     },
     "output_type": "display_data"
    },
    {
     "data": {
      "text/plain": [
       "True"
      ]
     },
     "execution_count": 516,
     "metadata": {},
     "output_type": "execute_result"
    }
   ],
   "source": [
    "representacion_intermedia_XOR(dominio_XOR)"
   ]
  },
  {
   "cell_type": "markdown",
   "metadata": {},
   "source": [
    "#### Conclusiones:\n",
    "- Se pudo comprobar cómo las variables de entrada x1 y x2 fueron llevadas a un espacio latente, con representaciones intermedias h1 y h2, por la red neuronal.\n",
    "- Un problema no linealmente separable en la representación normal (x1,x2) se transformó en un problema linealmente separable en la representación intermedia (h1,h2).\n",
    "- En la representación intermedia h1,h2, se puede observar cómo se mapean los puntos distintos en el espacio (x1,x2): (0,1) y (1,0) (representados en color naranja) a un único punto en el espacio intermedio (h1,h2): (1,1). Esto **redujo el número de puntos en la representación intermedia del espacio latente**, permitiendo la separación lineal."
   ]
  }
 ],
 "metadata": {
  "kernelspec": {
   "display_name": "Python 3",
   "language": "python",
   "name": "python3"
  },
  "language_info": {
   "codemirror_mode": {
    "name": "ipython",
    "version": 3
   },
   "file_extension": ".py",
   "mimetype": "text/x-python",
   "name": "python",
   "nbconvert_exporter": "python",
   "pygments_lexer": "ipython3",
   "version": "3.7.7"
  }
 },
 "nbformat": 4,
 "nbformat_minor": 4
}
